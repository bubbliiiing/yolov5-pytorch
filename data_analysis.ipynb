{
 "cells": [
  {
   "cell_type": "code",
   "execution_count": null,
   "metadata": {},
   "outputs": [],
   "source": [
    "import tensorboard"
   ]
  },
  {
   "attachments": {},
   "cell_type": "markdown",
   "metadata": {},
   "source": [
    "## 批量用yolo将bounding box保存csv\n",
    "\n",
    "1.保存bounding box到csv\n",
    "\n",
    "2.将代码缩减成一到两个py文件\n",
    "\n",
    "3.将bounding box保存到json文件\n",
    "\n",
    "上传json文件X"
   ]
  },
  {
   "cell_type": "code",
   "execution_count": null,
   "metadata": {},
   "outputs": [],
   "source": [
    "import json\n",
    "data = {\"name\": \"Alice\", \"age\": 20, \"hobbies\": [\"reading\", \"coding\"]}\n",
    "with open(\"data.json\", \"w\") as f:\n",
    "    json.dump(data, f)"
   ]
  },
  {
   "attachments": {},
   "cell_type": "markdown",
   "metadata": {},
   "source": [
    "python使用字典操作\n",
    "\n",
    "https://www.runoob.com/python/python-dictionary.html"
   ]
  },
  {
   "cell_type": "code",
   "execution_count": 2,
   "metadata": {},
   "outputs": [
    {
     "name": "stdout",
     "output_type": "stream",
     "text": [
      "<class 'numpy.ndarray'>\n"
     ]
    }
   ],
   "source": [
    "import pandas as pd\n",
    "import numpy as np\n",
    "label, top, left, bottom, right = 'jacket 0.51',538 ,528,707,616\n",
    "data=(label, top, left, bottom, right)\n",
    "array = np.asarray(data).reshape(1,5)\n",
    "array = np.concatenate((array,array),axis=0)\n",
    "print(type(array))\n",
    "test=pd.DataFrame(array,columns=['label', 'top', 'left', 'bottom', 'right'])\n",
    "test.to_csv('save1.csv', index=False, sep=',')"
   ]
  },
  {
   "cell_type": "code",
   "execution_count": 4,
   "metadata": {},
   "outputs": [],
   "source": [
    "import os\n",
    "image_name = 'sadfhkj.jpg'\n",
    "label, top, left, bottom, right = 'jacket 0.51',538 ,528,707,616\n",
    "data=(image_name,label, top, left, bottom, right)\n",
    "array = np.asarray(data).reshape(1,6)\n",
    "array = np.concatenate((array,array),axis=0)\n",
    "# image_name = np.asarray(image_name)\n",
    "# array_image_name = np.concatenate((image_name,array),axis=1)\n",
    "# label, top, left, bottom, right = array\n",
    "# array_image_name = image_name + array\n",
    "\n",
    "test=pd.DataFrame(array,columns=['image_name','label', 'top', 'left', 'bottom', 'right'])\n",
    "# test=pd.DataFrame(array)\n",
    "if os.path.exists('save1.csv'):\n",
    "    test.to_csv('save1.csv', index=False, sep=',',mode='a', header=None)\n",
    "    \n",
    "else:\n",
    "    test.to_csv('save1.csv', index=False, sep=',',mode='a')"
   ]
  },
  {
   "cell_type": "code",
   "execution_count": 17,
   "metadata": {},
   "outputs": [
    {
     "data": {
      "text/plain": [
       "True"
      ]
     },
     "execution_count": 17,
     "metadata": {},
     "output_type": "execute_result"
    }
   ],
   "source": [
    "import os\n",
    "os.path.exists('save1.csv')"
   ]
  }
 ],
 "metadata": {
  "kernelspec": {
   "display_name": "pytorch_py37",
   "language": "python",
   "name": "python3"
  },
  "language_info": {
   "codemirror_mode": {
    "name": "ipython",
    "version": 3
   },
   "file_extension": ".py",
   "mimetype": "text/x-python",
   "name": "python",
   "nbconvert_exporter": "python",
   "pygments_lexer": "ipython3",
   "version": "3.7.16"
  },
  "orig_nbformat": 4,
  "vscode": {
   "interpreter": {
    "hash": "6198aedcd0ac652a444d7ee87cdb474140afc32862f11a7cd22c6cfd8fc2757e"
   }
  }
 },
 "nbformat": 4,
 "nbformat_minor": 2
}
