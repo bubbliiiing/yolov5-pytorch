{
 "cells": [
  {
   "cell_type": "code",
   "execution_count": 1,
   "metadata": {},
   "outputs": [],
   "source": [
    "import tensorboard"
   ]
  },
  {
   "attachments": {},
   "cell_type": "markdown",
   "metadata": {},
   "source": [
    "## 批量用yolo将bounding box保存csv\n",
    "\n",
    "1.保存bounding box到csv\n",
    "\n",
    "2.将代码缩减成一到两个py文件\n",
    "\n",
    "3.将bounding box保存到json文件\n",
    "\n",
    "上传json文件X"
   ]
  },
  {
   "cell_type": "code",
   "execution_count": 1,
   "metadata": {},
   "outputs": [],
   "source": [
    "import json\n",
    "data = {\"name\": \"Alice\", \"age\": 20, \"hobbies\": [\"reading\", \"coding\"]}\n",
    "with open(\"data.json\", \"w\") as f:\n",
    "    json.dump(data, f)"
   ]
  },
  {
   "attachments": {},
   "cell_type": "markdown",
   "metadata": {},
   "source": [
    "python使用字典操作\n",
    "\n",
    "https://www.runoob.com/python/python-dictionary.html"
   ]
  },
  {
   "cell_type": "code",
   "execution_count": null,
   "metadata": {},
   "outputs": [],
   "source": []
  }
 ],
 "metadata": {
  "kernelspec": {
   "display_name": "pytorch_py37",
   "language": "python",
   "name": "python3"
  },
  "language_info": {
   "codemirror_mode": {
    "name": "ipython",
    "version": 3
   },
   "file_extension": ".py",
   "mimetype": "text/x-python",
   "name": "python",
   "nbconvert_exporter": "python",
   "pygments_lexer": "ipython3",
   "version": "3.7.16"
  },
  "orig_nbformat": 4,
  "vscode": {
   "interpreter": {
    "hash": "6198aedcd0ac652a444d7ee87cdb474140afc32862f11a7cd22c6cfd8fc2757e"
   }
  }
 },
 "nbformat": 4,
 "nbformat_minor": 2
}
